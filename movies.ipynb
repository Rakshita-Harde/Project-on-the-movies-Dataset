{
 "cells": [
  {
   "cell_type": "code",
   "execution_count": 160,
   "id": "a0b2d7ec-ced6-432e-b700-0663f90fc223",
   "metadata": {},
   "outputs": [],
   "source": [
    "import numpy as np\n",
    "import pandas as pd   \n"
   ]
  },
  {
   "cell_type": "markdown",
   "id": "8fc9a7c4-ee7b-4829-938d-32666ad6aa95",
   "metadata": {},
   "source": [
    "# LOADING DATA SET "
   ]
  },
  {
   "cell_type": "code",
   "execution_count": 295,
   "id": "407d53a6-acb2-4155-bca3-77ffcf200dfd",
   "metadata": {},
   "outputs": [],
   "source": [
    "df = pd.read_csv(\"top_1000_popular_movies_tmdb (1).csv\", engine = \"python\")"
   ]
  },
  {
   "cell_type": "code",
   "execution_count": 297,
   "id": "f06e27e5-7a6c-4ca3-8503-88bd23f25825",
   "metadata": {
    "scrolled": true
   },
   "outputs": [
    {
     "data": {
      "text/html": [
       "<div>\n",
       "<style scoped>\n",
       "    .dataframe tbody tr th:only-of-type {\n",
       "        vertical-align: middle;\n",
       "    }\n",
       "\n",
       "    .dataframe tbody tr th {\n",
       "        vertical-align: top;\n",
       "    }\n",
       "\n",
       "    .dataframe thead th {\n",
       "        text-align: right;\n",
       "    }\n",
       "</style>\n",
       "<table border=\"1\" class=\"dataframe\">\n",
       "  <thead>\n",
       "    <tr style=\"text-align: right;\">\n",
       "      <th></th>\n",
       "      <th>Unnamed: 0</th>\n",
       "      <th>id</th>\n",
       "      <th>title</th>\n",
       "      <th>release_date</th>\n",
       "      <th>genres</th>\n",
       "      <th>original_language</th>\n",
       "      <th>vote_average</th>\n",
       "      <th>vote_count</th>\n",
       "      <th>popularity</th>\n",
       "      <th>overview</th>\n",
       "      <th>budget</th>\n",
       "      <th>production_companies</th>\n",
       "      <th>revenue</th>\n",
       "      <th>runtime</th>\n",
       "      <th>tagline</th>\n",
       "    </tr>\n",
       "  </thead>\n",
       "  <tbody>\n",
       "    <tr>\n",
       "      <th>0</th>\n",
       "      <td>0</td>\n",
       "      <td>385687</td>\n",
       "      <td>Fast X</td>\n",
       "      <td>2023-05-17</td>\n",
       "      <td>['Action', 'Crime', 'Thriller']</td>\n",
       "      <td>English</td>\n",
       "      <td>7.4</td>\n",
       "      <td>1347.0</td>\n",
       "      <td>8363.473</td>\n",
       "      <td>Over many missions and against impossible odds...</td>\n",
       "      <td>340000000.0</td>\n",
       "      <td>['Universal Pictures', 'Original Film', 'One R...</td>\n",
       "      <td>6.520000e+08</td>\n",
       "      <td>142.0</td>\n",
       "      <td>The end of the road begins.</td>\n",
       "    </tr>\n",
       "    <tr>\n",
       "      <th>1</th>\n",
       "      <td>1</td>\n",
       "      <td>603692</td>\n",
       "      <td>John Wick: Chapter 4</td>\n",
       "      <td>2023-03-22</td>\n",
       "      <td>['Action', 'Thriller', 'Crime']</td>\n",
       "      <td>English</td>\n",
       "      <td>7.9</td>\n",
       "      <td>2896.0</td>\n",
       "      <td>4210.313</td>\n",
       "      <td>With the price on his head ever increasing, Jo...</td>\n",
       "      <td>90000000.0</td>\n",
       "      <td>['Thunder Road', '87Eleven', 'Summit Entertain...</td>\n",
       "      <td>4.317692e+08</td>\n",
       "      <td>170.0</td>\n",
       "      <td>No way back, one way out.</td>\n",
       "    </tr>\n",
       "    <tr>\n",
       "      <th>2</th>\n",
       "      <td>2</td>\n",
       "      <td>502356</td>\n",
       "      <td>The Super Mario Bros. Movie</td>\n",
       "      <td>2023-04-05</td>\n",
       "      <td>['Animation', 'Family', 'Adventure', 'Fantasy'...</td>\n",
       "      <td>English</td>\n",
       "      <td>7.8</td>\n",
       "      <td>4628.0</td>\n",
       "      <td>3394.458</td>\n",
       "      <td>While working underground to fix a water main,...</td>\n",
       "      <td>100000000.0</td>\n",
       "      <td>['Universal Pictures', 'Illumination', 'Ninten...</td>\n",
       "      <td>1.308767e+09</td>\n",
       "      <td>92.0</td>\n",
       "      <td>NaN</td>\n",
       "    </tr>\n",
       "    <tr>\n",
       "      <th>3</th>\n",
       "      <td>3</td>\n",
       "      <td>569094</td>\n",
       "      <td>Spider-Man: Across the Spider-Verse</td>\n",
       "      <td>2023-05-31</td>\n",
       "      <td>['Action', 'Adventure', 'Animation', 'Science ...</td>\n",
       "      <td>English</td>\n",
       "      <td>8.8</td>\n",
       "      <td>1160.0</td>\n",
       "      <td>2859.047</td>\n",
       "      <td>After reuniting with Gwen Stacy, Brooklyn’s fu...</td>\n",
       "      <td>100000000.0</td>\n",
       "      <td>['Columbia Pictures', 'Sony Pictures Animation...</td>\n",
       "      <td>3.135222e+08</td>\n",
       "      <td>140.0</td>\n",
       "      <td>It's how you wear the mask that matters</td>\n",
       "    </tr>\n",
       "    <tr>\n",
       "      <th>4</th>\n",
       "      <td>4</td>\n",
       "      <td>536437</td>\n",
       "      <td>Hypnotic</td>\n",
       "      <td>2023-05-11</td>\n",
       "      <td>['Mystery', 'Thriller', 'Science Fiction']</td>\n",
       "      <td>English</td>\n",
       "      <td>6.5</td>\n",
       "      <td>154.0</td>\n",
       "      <td>2654.854</td>\n",
       "      <td>A detective becomes entangled in a mystery inv...</td>\n",
       "      <td>70000000.0</td>\n",
       "      <td>['Studio 8', 'Solstice Productions', 'Ingeniou...</td>\n",
       "      <td>0.000000e+00</td>\n",
       "      <td>94.0</td>\n",
       "      <td>Control is an illusion.</td>\n",
       "    </tr>\n",
       "    <tr>\n",
       "      <th>5</th>\n",
       "      <td>5</td>\n",
       "      <td>667538</td>\n",
       "      <td>Transformers: Rise of the Beasts</td>\n",
       "      <td>2023-06-06</td>\n",
       "      <td>['Action', 'Adventure', 'Science Fiction']</td>\n",
       "      <td>English</td>\n",
       "      <td>7.4</td>\n",
       "      <td>195.0</td>\n",
       "      <td>2453.807</td>\n",
       "      <td>When a new threat capable of destroying the en...</td>\n",
       "      <td>200000000.0</td>\n",
       "      <td>['Skydance', 'Paramount', 'di Bonaventura Pict...</td>\n",
       "      <td>1.710455e+08</td>\n",
       "      <td>127.0</td>\n",
       "      <td>Unite or fall.</td>\n",
       "    </tr>\n",
       "    <tr>\n",
       "      <th>6</th>\n",
       "      <td>6</td>\n",
       "      <td>890771</td>\n",
       "      <td>The Black Demon</td>\n",
       "      <td>2023-04-26</td>\n",
       "      <td>['Horror', 'Thriller']</td>\n",
       "      <td>English</td>\n",
       "      <td>6.5</td>\n",
       "      <td>151.0</td>\n",
       "      <td>1777.200</td>\n",
       "      <td>Oilman Paul Sturges' idyllic family vacation t...</td>\n",
       "      <td>0.0</td>\n",
       "      <td>['Mucho Mas Media', 'Silk Mass', 'The Avenue E...</td>\n",
       "      <td>0.000000e+00</td>\n",
       "      <td>100.0</td>\n",
       "      <td>Nature bites back.</td>\n",
       "    </tr>\n",
       "    <tr>\n",
       "      <th>7</th>\n",
       "      <td>7</td>\n",
       "      <td>447277</td>\n",
       "      <td>The Little Mermaid</td>\n",
       "      <td>2023-05-18</td>\n",
       "      <td>['Adventure', 'Family', 'Fantasy', 'Romance']</td>\n",
       "      <td>English</td>\n",
       "      <td>6.2</td>\n",
       "      <td>616.0</td>\n",
       "      <td>1448.640</td>\n",
       "      <td>The youngest of King Triton’s daughters, and t...</td>\n",
       "      <td>250000000.0</td>\n",
       "      <td>['Walt Disney Pictures', 'Lucamar Productions'...</td>\n",
       "      <td>4.140000e+08</td>\n",
       "      <td>135.0</td>\n",
       "      <td>Watch and you'll see, some day I'll be, part o...</td>\n",
       "    </tr>\n",
       "    <tr>\n",
       "      <th>8</th>\n",
       "      <td>8</td>\n",
       "      <td>76600</td>\n",
       "      <td>Avatar: The Way of Water</td>\n",
       "      <td>2022-12-14</td>\n",
       "      <td>['Science Fiction', 'Adventure', 'Action']</td>\n",
       "      <td>English</td>\n",
       "      <td>7.7</td>\n",
       "      <td>8493.0</td>\n",
       "      <td>1344.884</td>\n",
       "      <td>Set more than a decade after the events of the...</td>\n",
       "      <td>460000000.0</td>\n",
       "      <td>['20th Century Studios', 'Lightstorm Entertain...</td>\n",
       "      <td>2.320250e+09</td>\n",
       "      <td>192.0</td>\n",
       "      <td>Return to Pandora.</td>\n",
       "    </tr>\n",
       "    <tr>\n",
       "      <th>9</th>\n",
       "      <td>9</td>\n",
       "      <td>713704</td>\n",
       "      <td>Evil Dead Rise</td>\n",
       "      <td>2023-04-12</td>\n",
       "      <td>['Thriller', 'Horror']</td>\n",
       "      <td>English</td>\n",
       "      <td>7.1</td>\n",
       "      <td>1597.0</td>\n",
       "      <td>1285.781</td>\n",
       "      <td>Three siblings find an ancient vinyl that give...</td>\n",
       "      <td>15000000.0</td>\n",
       "      <td>['New Line Cinema', 'Ghost House Pictures', 'R...</td>\n",
       "      <td>1.415121e+08</td>\n",
       "      <td>96.0</td>\n",
       "      <td>Mommy loves you to death.</td>\n",
       "    </tr>\n",
       "  </tbody>\n",
       "</table>\n",
       "</div>"
      ],
      "text/plain": [
       "  Unnamed: 0      id                                title release_date  \\\n",
       "0          0  385687                               Fast X   2023-05-17   \n",
       "1          1  603692                 John Wick: Chapter 4   2023-03-22   \n",
       "2          2  502356          The Super Mario Bros. Movie   2023-04-05   \n",
       "3          3  569094  Spider-Man: Across the Spider-Verse   2023-05-31   \n",
       "4          4  536437                             Hypnotic   2023-05-11   \n",
       "5          5  667538     Transformers: Rise of the Beasts   2023-06-06   \n",
       "6          6  890771                      The Black Demon   2023-04-26   \n",
       "7          7  447277                   The Little Mermaid   2023-05-18   \n",
       "8          8   76600             Avatar: The Way of Water   2022-12-14   \n",
       "9          9  713704                       Evil Dead Rise   2023-04-12   \n",
       "\n",
       "                                              genres original_language  \\\n",
       "0                    ['Action', 'Crime', 'Thriller']           English   \n",
       "1                    ['Action', 'Thriller', 'Crime']           English   \n",
       "2  ['Animation', 'Family', 'Adventure', 'Fantasy'...           English   \n",
       "3  ['Action', 'Adventure', 'Animation', 'Science ...           English   \n",
       "4         ['Mystery', 'Thriller', 'Science Fiction']           English   \n",
       "5         ['Action', 'Adventure', 'Science Fiction']           English   \n",
       "6                             ['Horror', 'Thriller']           English   \n",
       "7      ['Adventure', 'Family', 'Fantasy', 'Romance']           English   \n",
       "8         ['Science Fiction', 'Adventure', 'Action']           English   \n",
       "9                             ['Thriller', 'Horror']           English   \n",
       "\n",
       "   vote_average  vote_count  popularity  \\\n",
       "0           7.4      1347.0    8363.473   \n",
       "1           7.9      2896.0    4210.313   \n",
       "2           7.8      4628.0    3394.458   \n",
       "3           8.8      1160.0    2859.047   \n",
       "4           6.5       154.0    2654.854   \n",
       "5           7.4       195.0    2453.807   \n",
       "6           6.5       151.0    1777.200   \n",
       "7           6.2       616.0    1448.640   \n",
       "8           7.7      8493.0    1344.884   \n",
       "9           7.1      1597.0    1285.781   \n",
       "\n",
       "                                            overview       budget  \\\n",
       "0  Over many missions and against impossible odds...  340000000.0   \n",
       "1  With the price on his head ever increasing, Jo...   90000000.0   \n",
       "2  While working underground to fix a water main,...  100000000.0   \n",
       "3  After reuniting with Gwen Stacy, Brooklyn’s fu...  100000000.0   \n",
       "4  A detective becomes entangled in a mystery inv...   70000000.0   \n",
       "5  When a new threat capable of destroying the en...  200000000.0   \n",
       "6  Oilman Paul Sturges' idyllic family vacation t...          0.0   \n",
       "7  The youngest of King Triton’s daughters, and t...  250000000.0   \n",
       "8  Set more than a decade after the events of the...  460000000.0   \n",
       "9  Three siblings find an ancient vinyl that give...   15000000.0   \n",
       "\n",
       "                                production_companies       revenue  runtime  \\\n",
       "0  ['Universal Pictures', 'Original Film', 'One R...  6.520000e+08    142.0   \n",
       "1  ['Thunder Road', '87Eleven', 'Summit Entertain...  4.317692e+08    170.0   \n",
       "2  ['Universal Pictures', 'Illumination', 'Ninten...  1.308767e+09     92.0   \n",
       "3  ['Columbia Pictures', 'Sony Pictures Animation...  3.135222e+08    140.0   \n",
       "4  ['Studio 8', 'Solstice Productions', 'Ingeniou...  0.000000e+00     94.0   \n",
       "5  ['Skydance', 'Paramount', 'di Bonaventura Pict...  1.710455e+08    127.0   \n",
       "6  ['Mucho Mas Media', 'Silk Mass', 'The Avenue E...  0.000000e+00    100.0   \n",
       "7  ['Walt Disney Pictures', 'Lucamar Productions'...  4.140000e+08    135.0   \n",
       "8  ['20th Century Studios', 'Lightstorm Entertain...  2.320250e+09    192.0   \n",
       "9  ['New Line Cinema', 'Ghost House Pictures', 'R...  1.415121e+08     96.0   \n",
       "\n",
       "                                             tagline  \n",
       "0                        The end of the road begins.  \n",
       "1                          No way back, one way out.  \n",
       "2                                                NaN  \n",
       "3            It's how you wear the mask that matters  \n",
       "4                            Control is an illusion.  \n",
       "5                                     Unite or fall.  \n",
       "6                                 Nature bites back.  \n",
       "7  Watch and you'll see, some day I'll be, part o...  \n",
       "8                                 Return to Pandora.  \n",
       "9                          Mommy loves you to death.  "
      ]
     },
     "execution_count": 297,
     "metadata": {},
     "output_type": "execute_result"
    }
   ],
   "source": [
    "# for top 10 entries in the data \n",
    "df.head(10)"
   ]
  },
  {
   "cell_type": "code",
   "execution_count": 299,
   "id": "22847d48-2f09-4a9c-9cde-487cf3f9b0af",
   "metadata": {},
   "outputs": [
    {
     "data": {
      "text/html": [
       "<div>\n",
       "<style scoped>\n",
       "    .dataframe tbody tr th:only-of-type {\n",
       "        vertical-align: middle;\n",
       "    }\n",
       "\n",
       "    .dataframe tbody tr th {\n",
       "        vertical-align: top;\n",
       "    }\n",
       "\n",
       "    .dataframe thead th {\n",
       "        text-align: right;\n",
       "    }\n",
       "</style>\n",
       "<table border=\"1\" class=\"dataframe\">\n",
       "  <thead>\n",
       "    <tr style=\"text-align: right;\">\n",
       "      <th></th>\n",
       "      <th>Unnamed: 0</th>\n",
       "      <th>id</th>\n",
       "      <th>title</th>\n",
       "      <th>release_date</th>\n",
       "      <th>genres</th>\n",
       "      <th>original_language</th>\n",
       "      <th>vote_average</th>\n",
       "      <th>vote_count</th>\n",
       "      <th>popularity</th>\n",
       "      <th>overview</th>\n",
       "      <th>budget</th>\n",
       "      <th>production_companies</th>\n",
       "      <th>revenue</th>\n",
       "      <th>runtime</th>\n",
       "      <th>tagline</th>\n",
       "    </tr>\n",
       "  </thead>\n",
       "  <tbody>\n",
       "    <tr>\n",
       "      <th>9991</th>\n",
       "      <td>9990</td>\n",
       "      <td>14736</td>\n",
       "      <td>Love &amp; Basketball</td>\n",
       "      <td>2000-04-21</td>\n",
       "      <td>['Comedy', 'Drama', 'Romance']</td>\n",
       "      <td>English</td>\n",
       "      <td>7.5</td>\n",
       "      <td>383.0</td>\n",
       "      <td>12.306</td>\n",
       "      <td>Monica Wright and Quincy McCall grew up in the...</td>\n",
       "      <td>20000000.0</td>\n",
       "      <td>['40 Acres and a Mule Filmworks']</td>\n",
       "      <td>27728118.0</td>\n",
       "      <td>124.0</td>\n",
       "      <td>All's fair in love and basketball.</td>\n",
       "    </tr>\n",
       "    <tr>\n",
       "      <th>9992</th>\n",
       "      <td>9991</td>\n",
       "      <td>563067</td>\n",
       "      <td>Fukushima 50</td>\n",
       "      <td>2020-03-06</td>\n",
       "      <td>['History', 'Drama', 'Action']</td>\n",
       "      <td>Japanese</td>\n",
       "      <td>6.4</td>\n",
       "      <td>136.0</td>\n",
       "      <td>12.305</td>\n",
       "      <td>Workers at the Fukushima Daiichi facility in J...</td>\n",
       "      <td>0.0</td>\n",
       "      <td>['Shochiku', 'KADOKAWA']</td>\n",
       "      <td>7494243.0</td>\n",
       "      <td>122.0</td>\n",
       "      <td>In the darkest hours, courage prevails</td>\n",
       "    </tr>\n",
       "    <tr>\n",
       "      <th>9993</th>\n",
       "      <td>9992</td>\n",
       "      <td>396398</td>\n",
       "      <td>The Meyerowitz Stories (New and Selected)</td>\n",
       "      <td>2017-10-13</td>\n",
       "      <td>['Comedy', 'Drama']</td>\n",
       "      <td>English</td>\n",
       "      <td>6.5</td>\n",
       "      <td>1066.0</td>\n",
       "      <td>12.303</td>\n",
       "      <td>An estranged family gathers together in New Yo...</td>\n",
       "      <td>0.0</td>\n",
       "      <td>['Gilded Halfwing', 'IAC Films']</td>\n",
       "      <td>0.0</td>\n",
       "      <td>112.0</td>\n",
       "      <td>NaN</td>\n",
       "    </tr>\n",
       "    <tr>\n",
       "      <th>9994</th>\n",
       "      <td>9993</td>\n",
       "      <td>329981</td>\n",
       "      <td>Shut In</td>\n",
       "      <td>2016-11-11</td>\n",
       "      <td>['Drama', 'Thriller']</td>\n",
       "      <td>English</td>\n",
       "      <td>5.3</td>\n",
       "      <td>639.0</td>\n",
       "      <td>12.303</td>\n",
       "      <td>A widowed child psychologist lives in an isola...</td>\n",
       "      <td>10000000.0</td>\n",
       "      <td>['EuropaCorp', 'Lava Bear Films', 'Transfilm I...</td>\n",
       "      <td>13082071.0</td>\n",
       "      <td>91.0</td>\n",
       "      <td>Some fears can't be shut out.</td>\n",
       "    </tr>\n",
       "    <tr>\n",
       "      <th>9995</th>\n",
       "      <td>9994</td>\n",
       "      <td>12720</td>\n",
       "      <td>Suicide Club</td>\n",
       "      <td>2001-10-29</td>\n",
       "      <td>['Drama', 'Horror', 'Thriller']</td>\n",
       "      <td>Japanese</td>\n",
       "      <td>6.6</td>\n",
       "      <td>411.0</td>\n",
       "      <td>12.302</td>\n",
       "      <td>When 54 high school girls throw themselves in ...</td>\n",
       "      <td>250000.0</td>\n",
       "      <td>['Omega Project']</td>\n",
       "      <td>0.0</td>\n",
       "      <td>99.0</td>\n",
       "      <td>Well then, goodbye everybody.</td>\n",
       "    </tr>\n",
       "    <tr>\n",
       "      <th>9996</th>\n",
       "      <td>9995</td>\n",
       "      <td>33142</td>\n",
       "      <td>Vivah</td>\n",
       "      <td>2006-11-10</td>\n",
       "      <td>['Romance', 'Drama']</td>\n",
       "      <td>Hindi</td>\n",
       "      <td>6.4</td>\n",
       "      <td>70.0</td>\n",
       "      <td>12.301</td>\n",
       "      <td>Poonam, a traditionally brought-up young woman...</td>\n",
       "      <td>0.0</td>\n",
       "      <td>['Rajshri Productions']</td>\n",
       "      <td>4000000.0</td>\n",
       "      <td>175.0</td>\n",
       "      <td>Marriage isn't a game...</td>\n",
       "    </tr>\n",
       "    <tr>\n",
       "      <th>9997</th>\n",
       "      <td>9996</td>\n",
       "      <td>9442</td>\n",
       "      <td>Dead Men Don't Wear Plaid</td>\n",
       "      <td>1982-05-21</td>\n",
       "      <td>['Comedy', 'Mystery']</td>\n",
       "      <td>English</td>\n",
       "      <td>6.6</td>\n",
       "      <td>324.0</td>\n",
       "      <td>12.301</td>\n",
       "      <td>Juliet Forrest is convinced that the reported ...</td>\n",
       "      <td>9000000.0</td>\n",
       "      <td>['Universal Pictures', 'Aspen Film Society']</td>\n",
       "      <td>18196170.0</td>\n",
       "      <td>89.0</td>\n",
       "      <td>Laugh...or I’ll blow your lips off!</td>\n",
       "    </tr>\n",
       "    <tr>\n",
       "      <th>9998</th>\n",
       "      <td>9997</td>\n",
       "      <td>28774</td>\n",
       "      <td>Communion</td>\n",
       "      <td>1989-11-10</td>\n",
       "      <td>['Drama', 'Horror', 'Science Fiction', 'Thrill...</td>\n",
       "      <td>English</td>\n",
       "      <td>5.3</td>\n",
       "      <td>147.0</td>\n",
       "      <td>12.300</td>\n",
       "      <td>A novelist's wife and son see him changed by a...</td>\n",
       "      <td>5000000.0</td>\n",
       "      <td>['The Picture Property Company', 'Allied Visio...</td>\n",
       "      <td>1919653.0</td>\n",
       "      <td>103.0</td>\n",
       "      <td>The true story of one man's terrifying journey...</td>\n",
       "    </tr>\n",
       "    <tr>\n",
       "      <th>9999</th>\n",
       "      <td>9998</td>\n",
       "      <td>11121</td>\n",
       "      <td>Tess</td>\n",
       "      <td>1979-10-06</td>\n",
       "      <td>['Drama', 'Romance']</td>\n",
       "      <td>English</td>\n",
       "      <td>7.0</td>\n",
       "      <td>283.0</td>\n",
       "      <td>12.300</td>\n",
       "      <td>A strong-willed peasant girl is sent by her fa...</td>\n",
       "      <td>12000000.0</td>\n",
       "      <td>['Renn Productions', 'Timothy Burrill Producti...</td>\n",
       "      <td>20101247.0</td>\n",
       "      <td>186.0</td>\n",
       "      <td>She was born into a world where they called it...</td>\n",
       "    </tr>\n",
       "    <tr>\n",
       "      <th>10000</th>\n",
       "      <td>9999</td>\n",
       "      <td>272692</td>\n",
       "      <td>The Possession of Michael King</td>\n",
       "      <td>2014-08-14</td>\n",
       "      <td>['Horror']</td>\n",
       "      <td>English</td>\n",
       "      <td>6.1</td>\n",
       "      <td>346.0</td>\n",
       "      <td>12.297</td>\n",
       "      <td>The film tells the story of documentary filmma...</td>\n",
       "      <td>0.0</td>\n",
       "      <td>['Quickfire Films', 'Gold Circle Films']</td>\n",
       "      <td>2405143.0</td>\n",
       "      <td>83.0</td>\n",
       "      <td>If you invite it in, it will never let you go.</td>\n",
       "    </tr>\n",
       "  </tbody>\n",
       "</table>\n",
       "</div>"
      ],
      "text/plain": [
       "      Unnamed: 0      id                                      title  \\\n",
       "9991        9990   14736                          Love & Basketball   \n",
       "9992        9991  563067                               Fukushima 50   \n",
       "9993        9992  396398  The Meyerowitz Stories (New and Selected)   \n",
       "9994        9993  329981                                    Shut In   \n",
       "9995        9994   12720                               Suicide Club   \n",
       "9996        9995   33142                                      Vivah   \n",
       "9997        9996    9442                  Dead Men Don't Wear Plaid   \n",
       "9998        9997   28774                                  Communion   \n",
       "9999        9998   11121                                       Tess   \n",
       "10000       9999  272692             The Possession of Michael King   \n",
       "\n",
       "      release_date                                             genres  \\\n",
       "9991    2000-04-21                     ['Comedy', 'Drama', 'Romance']   \n",
       "9992    2020-03-06                     ['History', 'Drama', 'Action']   \n",
       "9993    2017-10-13                                ['Comedy', 'Drama']   \n",
       "9994    2016-11-11                              ['Drama', 'Thriller']   \n",
       "9995    2001-10-29                    ['Drama', 'Horror', 'Thriller']   \n",
       "9996    2006-11-10                               ['Romance', 'Drama']   \n",
       "9997    1982-05-21                              ['Comedy', 'Mystery']   \n",
       "9998    1989-11-10  ['Drama', 'Horror', 'Science Fiction', 'Thrill...   \n",
       "9999    1979-10-06                               ['Drama', 'Romance']   \n",
       "10000   2014-08-14                                         ['Horror']   \n",
       "\n",
       "      original_language  vote_average  vote_count  popularity  \\\n",
       "9991            English           7.5       383.0      12.306   \n",
       "9992           Japanese           6.4       136.0      12.305   \n",
       "9993            English           6.5      1066.0      12.303   \n",
       "9994            English           5.3       639.0      12.303   \n",
       "9995           Japanese           6.6       411.0      12.302   \n",
       "9996              Hindi           6.4        70.0      12.301   \n",
       "9997            English           6.6       324.0      12.301   \n",
       "9998            English           5.3       147.0      12.300   \n",
       "9999            English           7.0       283.0      12.300   \n",
       "10000           English           6.1       346.0      12.297   \n",
       "\n",
       "                                                overview      budget  \\\n",
       "9991   Monica Wright and Quincy McCall grew up in the...  20000000.0   \n",
       "9992   Workers at the Fukushima Daiichi facility in J...         0.0   \n",
       "9993   An estranged family gathers together in New Yo...         0.0   \n",
       "9994   A widowed child psychologist lives in an isola...  10000000.0   \n",
       "9995   When 54 high school girls throw themselves in ...    250000.0   \n",
       "9996   Poonam, a traditionally brought-up young woman...         0.0   \n",
       "9997   Juliet Forrest is convinced that the reported ...   9000000.0   \n",
       "9998   A novelist's wife and son see him changed by a...   5000000.0   \n",
       "9999   A strong-willed peasant girl is sent by her fa...  12000000.0   \n",
       "10000  The film tells the story of documentary filmma...         0.0   \n",
       "\n",
       "                                    production_companies     revenue  runtime  \\\n",
       "9991                   ['40 Acres and a Mule Filmworks']  27728118.0    124.0   \n",
       "9992                            ['Shochiku', 'KADOKAWA']   7494243.0    122.0   \n",
       "9993                    ['Gilded Halfwing', 'IAC Films']         0.0    112.0   \n",
       "9994   ['EuropaCorp', 'Lava Bear Films', 'Transfilm I...  13082071.0     91.0   \n",
       "9995                                   ['Omega Project']         0.0     99.0   \n",
       "9996                             ['Rajshri Productions']   4000000.0    175.0   \n",
       "9997        ['Universal Pictures', 'Aspen Film Society']  18196170.0     89.0   \n",
       "9998   ['The Picture Property Company', 'Allied Visio...   1919653.0    103.0   \n",
       "9999   ['Renn Productions', 'Timothy Burrill Producti...  20101247.0    186.0   \n",
       "10000           ['Quickfire Films', 'Gold Circle Films']   2405143.0     83.0   \n",
       "\n",
       "                                                 tagline  \n",
       "9991                  All's fair in love and basketball.  \n",
       "9992              In the darkest hours, courage prevails  \n",
       "9993                                                 NaN  \n",
       "9994                       Some fears can't be shut out.  \n",
       "9995                       Well then, goodbye everybody.  \n",
       "9996                            Marriage isn't a game...  \n",
       "9997                 Laugh...or I’ll blow your lips off!  \n",
       "9998   The true story of one man's terrifying journey...  \n",
       "9999   She was born into a world where they called it...  \n",
       "10000     If you invite it in, it will never let you go.  "
      ]
     },
     "execution_count": 299,
     "metadata": {},
     "output_type": "execute_result"
    }
   ],
   "source": [
    "# for last 10 entries in the data \n",
    "df.tail(10)"
   ]
  },
  {
   "cell_type": "code",
   "execution_count": 301,
   "id": "86f88f25-96f6-4a43-aaba-39e0152f9d8e",
   "metadata": {},
   "outputs": [
    {
     "data": {
      "text/html": [
       "<div>\n",
       "<style scoped>\n",
       "    .dataframe tbody tr th:only-of-type {\n",
       "        vertical-align: middle;\n",
       "    }\n",
       "\n",
       "    .dataframe tbody tr th {\n",
       "        vertical-align: top;\n",
       "    }\n",
       "\n",
       "    .dataframe thead th {\n",
       "        text-align: right;\n",
       "    }\n",
       "</style>\n",
       "<table border=\"1\" class=\"dataframe\">\n",
       "  <thead>\n",
       "    <tr style=\"text-align: right;\">\n",
       "      <th></th>\n",
       "      <th>id</th>\n",
       "      <th>vote_average</th>\n",
       "      <th>vote_count</th>\n",
       "      <th>popularity</th>\n",
       "      <th>budget</th>\n",
       "      <th>revenue</th>\n",
       "      <th>runtime</th>\n",
       "    </tr>\n",
       "  </thead>\n",
       "  <tbody>\n",
       "    <tr>\n",
       "      <th>count</th>\n",
       "      <td>1.000100e+04</td>\n",
       "      <td>10000.000000</td>\n",
       "      <td>10000.000000</td>\n",
       "      <td>10000.000000</td>\n",
       "      <td>9.999000e+03</td>\n",
       "      <td>9.999000e+03</td>\n",
       "      <td>9999.000000</td>\n",
       "    </tr>\n",
       "    <tr>\n",
       "      <th>mean</th>\n",
       "      <td>3.001465e+05</td>\n",
       "      <td>6.319090</td>\n",
       "      <td>1558.294800</td>\n",
       "      <td>33.542340</td>\n",
       "      <td>1.993800e+07</td>\n",
       "      <td>6.084337e+07</td>\n",
       "      <td>100.809581</td>\n",
       "    </tr>\n",
       "    <tr>\n",
       "      <th>std</th>\n",
       "      <td>3.379901e+05</td>\n",
       "      <td>1.460605</td>\n",
       "      <td>2887.861217</td>\n",
       "      <td>126.495621</td>\n",
       "      <td>3.870582e+07</td>\n",
       "      <td>1.553073e+08</td>\n",
       "      <td>27.850165</td>\n",
       "    </tr>\n",
       "    <tr>\n",
       "      <th>min</th>\n",
       "      <td>0.000000e+00</td>\n",
       "      <td>0.000000</td>\n",
       "      <td>0.000000</td>\n",
       "      <td>12.297000</td>\n",
       "      <td>0.000000e+00</td>\n",
       "      <td>0.000000e+00</td>\n",
       "      <td>0.000000</td>\n",
       "    </tr>\n",
       "    <tr>\n",
       "      <th>25%</th>\n",
       "      <td>1.150400e+04</td>\n",
       "      <td>5.900000</td>\n",
       "      <td>143.000000</td>\n",
       "      <td>14.599000</td>\n",
       "      <td>0.000000e+00</td>\n",
       "      <td>0.000000e+00</td>\n",
       "      <td>90.000000</td>\n",
       "    </tr>\n",
       "    <tr>\n",
       "      <th>50%</th>\n",
       "      <td>1.184060e+05</td>\n",
       "      <td>6.600000</td>\n",
       "      <td>519.000000</td>\n",
       "      <td>18.582500</td>\n",
       "      <td>1.250000e+06</td>\n",
       "      <td>2.133452e+06</td>\n",
       "      <td>100.000000</td>\n",
       "    </tr>\n",
       "    <tr>\n",
       "      <th>75%</th>\n",
       "      <td>5.379150e+05</td>\n",
       "      <td>7.100000</td>\n",
       "      <td>1584.000000</td>\n",
       "      <td>28.014500</td>\n",
       "      <td>2.300000e+07</td>\n",
       "      <td>5.106230e+07</td>\n",
       "      <td>115.000000</td>\n",
       "    </tr>\n",
       "    <tr>\n",
       "      <th>max</th>\n",
       "      <td>1.136631e+06</td>\n",
       "      <td>10.000000</td>\n",
       "      <td>33822.000000</td>\n",
       "      <td>8363.473000</td>\n",
       "      <td>4.600000e+08</td>\n",
       "      <td>2.923706e+09</td>\n",
       "      <td>366.000000</td>\n",
       "    </tr>\n",
       "  </tbody>\n",
       "</table>\n",
       "</div>"
      ],
      "text/plain": [
       "                 id  vote_average    vote_count    popularity        budget  \\\n",
       "count  1.000100e+04  10000.000000  10000.000000  10000.000000  9.999000e+03   \n",
       "mean   3.001465e+05      6.319090   1558.294800     33.542340  1.993800e+07   \n",
       "std    3.379901e+05      1.460605   2887.861217    126.495621  3.870582e+07   \n",
       "min    0.000000e+00      0.000000      0.000000     12.297000  0.000000e+00   \n",
       "25%    1.150400e+04      5.900000    143.000000     14.599000  0.000000e+00   \n",
       "50%    1.184060e+05      6.600000    519.000000     18.582500  1.250000e+06   \n",
       "75%    5.379150e+05      7.100000   1584.000000     28.014500  2.300000e+07   \n",
       "max    1.136631e+06     10.000000  33822.000000   8363.473000  4.600000e+08   \n",
       "\n",
       "            revenue      runtime  \n",
       "count  9.999000e+03  9999.000000  \n",
       "mean   6.084337e+07   100.809581  \n",
       "std    1.553073e+08    27.850165  \n",
       "min    0.000000e+00     0.000000  \n",
       "25%    0.000000e+00    90.000000  \n",
       "50%    2.133452e+06   100.000000  \n",
       "75%    5.106230e+07   115.000000  \n",
       "max    2.923706e+09   366.000000  "
      ]
     },
     "execution_count": 301,
     "metadata": {},
     "output_type": "execute_result"
    }
   ],
   "source": [
    "df.describe()"
   ]
  },
  {
   "cell_type": "markdown",
   "id": "47a0db6e-9e8a-49fa-a52a-cf0f360ab970",
   "metadata": {},
   "source": [
    "**1.Vote_average**\n",
    "- **count** : The count of vote_average is 10000.\n",
    "- **mean** : The average (mean) vote average column is 6.319090 i.e average around 6.31 .\n",
    "- **std** : The standard deviation is 1.460605 is less than mean i.e the data values are closer to mean, or around the mean.\n",
    "- **min** : The minimum vote average is 0 i.e there is no min average.\n",
    "- **max** : The maximum vote average is 10.\n",
    "- *25 % (Q1)**: The 25 % value is 5.9000 that show the values below the 25 % of the data fall.\n",
    "- **50 % (median)**: The middle value of this column is 6.6000.\n",
    "- **75 % (Q3)** : 75 % of the 7.1000 or below 5.900 with only the high 50 % value above this.\n",
    "\n",
    "**2.Vote_count**\n",
    "- **count** : The count of vote_count is 10000.\n",
    "- **mean** : The average (mean) vote count column is 1558.294800 i.e average around 1558 .\n",
    "- **std** : The standard deviation is 2887.86 is grater than average .\n",
    "- **min** : The lowest count is 0.\n",
    "- **max** : The maximum count is 33822.00 .\n",
    "- *25 % (Q1)**: The 25 % value is 143.00 that show the values below the 25 % of the data fall.\n",
    "- **50 % (median)**: The middle value of this column is 519.\n",
    "- **75 % (Q3)** : 75 % of the 1584 .\n",
    "\n",
    "**3.Popularity**\n",
    "- **count** : The count of popularity is 10000.\n",
    "- **mean** : The average (mean) popularity column is 33.54 i.e average around 33 .\n",
    "- **std** : The standard deviation is 126 is grater than average .\n",
    "- **min** : The minimum popularity is 12.29 (i.e 12).\n",
    "- **max** : The maximum popularity is 8363.4730.\n",
    "- *25 % (Q1)**: The 25 % value is 14.59 that show the values below the 25 % of the data fall.\n",
    "- **50 % (median)**: The middle value of this column is 18.58.\n",
    "- **75 % (Q3)** : 75 % of the 28.01 which is greater than median and Q1.\n",
    "\n",
    "**4.budget**\n",
    "- **count** : The count of budget column  is 9.9990 (i.e in this column some missing values are present).\n",
    "- **mean** : The average (mean) budget column is 1.99 i.e average around 1. .\n",
    "- **std** : The standard deviation is 3.87 is greater than average .\n",
    "- **min** : The minimum budget is 0  .\n",
    "- **max** : The maximum budget is 4.6000.\n",
    "- *25 % (Q1)**: The 25 % value is 0 that show the there is no vaules are 25 % of the data fall.\n",
    "- **50 % (median)**: The middle value of this column is 1.25.\n",
    "- **75 % (Q3)** : 75 % of the 2.300 which is greater than median and Q1.\n",
    "\n",
    "**5.revenue**\n",
    "- **count** : The count of revenue column  is 9.99900 (i.e in this column few missing values are present).\n",
    "- **mean** : The average (mean) revenue column is 6.08 i.e average around 6 .\n",
    "- **std** : The standard deviation is 1.55 which is less than average .\n",
    "- **min** : The lowest revenue is 0 (there is no lowest revenue)  .\n",
    "- **max** : The highest revenue is 2.92.\n",
    "- *25 % (Q1)**: The 25 % value is 0 that show the there is no vaules are 25 % of the data fall.\n",
    "- **50 % (median)**: The middle value of this column is 2.13.\n",
    "- **75 % (Q3)** : 75 % of the 5.106 which is greater than median and Q1.\n",
    "\n",
    "**6.runtime**\n",
    "- **count** : The count of runtime column  is 9999.000 (i.e in this column few missing values are present).\n",
    "- **mean** : The average (mean) runtime column is 100.80 i.e average around 100 .\n",
    "- **std** : The standard deviation is 27 which is less than average .\n",
    "- **min** : The lowest runtime is 0 (there is no lowest runtime)  .\n",
    "- **max** : The highest runtime is 366.00.\n",
    "- *25 % (Q1)**: The 25 % value is 90 that show the there below vaules are 25 % of the data fall.\n",
    "- **50 % (median)**: The middle value of this column 100.\n",
    "- **75 % (Q3)** : 75 % of the 115 which is greater than median and  below the 25% data fall.\n"
   ]
  },
  {
   "cell_type": "markdown",
   "id": "7ce9ecdb-6ed6-4f04-ab22-cfd30bf18d8c",
   "metadata": {},
   "source": [
    "**TOTAL NUMBER OF ROWS AND COLOUMS IN THE DATASET**"
   ]
  },
  {
   "cell_type": "code",
   "execution_count": 168,
   "id": "e39b5a30-a98c-4c93-a905-fa404f964b8b",
   "metadata": {},
   "outputs": [
    {
     "data": {
      "text/plain": [
       "(10001, 15)"
      ]
     },
     "execution_count": 168,
     "metadata": {},
     "output_type": "execute_result"
    }
   ],
   "source": [
    "df.shape"
   ]
  },
  {
   "cell_type": "markdown",
   "id": "cce242c8-ab87-4303-82c0-fb726ea89ae7",
   "metadata": {},
   "source": [
    "**FINDING THE NUMBER OF MISSING VALUES IN DATASET**"
   ]
  },
  {
   "cell_type": "code",
   "execution_count": 170,
   "id": "80c78e84-cfbb-4179-b865-3d02f2da0d3a",
   "metadata": {},
   "outputs": [
    {
     "data": {
      "text/plain": [
       "Unnamed: 0                 0\n",
       "id                         0\n",
       "title                      0\n",
       "release_date              23\n",
       "genres                     0\n",
       "original_language          1\n",
       "vote_average               1\n",
       "vote_count                 1\n",
       "popularity                 1\n",
       "overview                  77\n",
       "budget                     2\n",
       "production_companies       2\n",
       "revenue                    2\n",
       "runtime                    2\n",
       "tagline                 2618\n",
       "dtype: int64"
      ]
     },
     "execution_count": 170,
     "metadata": {},
     "output_type": "execute_result"
    }
   ],
   "source": [
    "#if there is any missing  values\n",
    "df.isna().sum()"
   ]
  },
  {
   "cell_type": "markdown",
   "id": "1dec4952-bd43-4d21-9ac4-4c3297947fae",
   "metadata": {},
   "source": [
    "**It is found tha the data has many missing values as we can already see in above figure now we need to clean the data by \n",
    "handaling such values** "
   ]
  },
  {
   "cell_type": "code",
   "execution_count": 172,
   "id": "7131a6cf-4b14-415c-8d64-f4d620228292",
   "metadata": {},
   "outputs": [],
   "source": [
    "\n",
    "df['tagline'] = df['tagline'].fillna('unknown')"
   ]
  },
  {
   "cell_type": "markdown",
   "id": "09a92810-1cd7-4276-84d3-29b6ee1232a7",
   "metadata": {},
   "source": [
    "**There are total 2618 missing values in the set but as it huge amount dropping can lead to the \n",
    "data loss or it can affect the interpritation hence we will fill the misssing values by the unknown placeholder**"
   ]
  },
  {
   "cell_type": "code",
   "execution_count": 174,
   "id": "5686320d-30f5-4c38-a435-70183d28c5dc",
   "metadata": {},
   "outputs": [],
   "source": [
    "df['overview']= df['overview'].fillna('no review')"
   ]
  },
  {
   "cell_type": "markdown",
   "id": "f69cdb21-c1b5-45c7-81a1-d9a09da34dae",
   "metadata": {},
   "source": [
    "**The overview has total 77 missing entries so we replaced it by 'NO REVIEW'** "
   ]
  },
  {
   "cell_type": "code",
   "execution_count": 176,
   "id": "5f330dd1-37c4-4d48-bd36-cdf6bcb37c7e",
   "metadata": {},
   "outputs": [
    {
     "data": {
      "text/plain": [
       "Unnamed: 0               0\n",
       "id                       0\n",
       "title                    0\n",
       "release_date            23\n",
       "genres                   0\n",
       "original_language        1\n",
       "vote_average             1\n",
       "vote_count               1\n",
       "popularity               1\n",
       "overview                 0\n",
       "budget                   2\n",
       "production_companies     2\n",
       "revenue                  2\n",
       "runtime                  2\n",
       "tagline                  0\n",
       "dtype: int64"
      ]
     },
     "execution_count": 176,
     "metadata": {},
     "output_type": "execute_result"
    }
   ],
   "source": [
    "df.isna().sum()"
   ]
  },
  {
   "cell_type": "markdown",
   "id": "7fadc11a-510e-4a16-b7c0-8433b027b2a0",
   "metadata": {},
   "source": [
    "# DATA COLLECTION "
   ]
  },
  {
   "cell_type": "markdown",
   "id": "5f82a177-0d19-4c49-80fd-51a39f2e33c9",
   "metadata": {},
   "source": [
    "**Total 23 entries are missing in release date column , we can't use any placeholder so we manually collected data**"
   ]
  },
  {
   "cell_type": "code",
   "execution_count": 259,
   "id": "d685d1b1-1c56-450f-8420-40e1c01a0fe7",
   "metadata": {},
   "outputs": [
    {
     "name": "stdout",
     "output_type": "stream",
     "text": [
      "                                                title release_date\n",
      "1073                                 Alienoid: Part 2          NaN\n",
      "1299                                      Terrifier 3          NaN\n",
      "1538                                          Shrek 5          NaN\n",
      "1594                                     Spider-Man 4          NaN\n",
      "1643                                            Moana          NaN\n",
      "2217                                   Fast X: Part 3          NaN\n",
      "2705                         Kingsman: The Blue Blood          NaN\n",
      "2738                             John Wick: Chapter 5          NaN\n",
      "3360                                   Wolf Warrior 3          NaN\n",
      "3443                                        Your Name          NaN\n",
      "4171                                    Baby Driver 2          NaN\n",
      "4951                              Save Me, Spider-Man          NaN\n",
      "5616                                       Zootopia 2          NaN\n",
      "5715               Transformers: Rise of the Beasts 2          NaN\n",
      "5813               Transformers: Rise of the Beasts 3          NaN\n",
      "6872        Untitled Miles Morales Spider-Man Project          NaN\n",
      "7528                          G.I. Joe: Ever Vigilant          NaN\n",
      "7908                                    One Punch Man          NaN\n",
      "7941                                     Wolf Creek 3          NaN\n",
      "8005                                      Toy Story 5          NaN\n",
      "8364  Red Bull Dragon Ball FighterZ World Final Paris          NaN\n",
      "8456                  Final Destination 6: Bloodlines          NaN\n",
      "9762                          El día de los albañiles          NaN\n"
     ]
    }
   ],
   "source": [
    "missing_release_dates = df[df['release_date'].isna()]\n",
    "print(missing_release_dates[['title', 'release_date']])"
   ]
  },
  {
   "cell_type": "markdown",
   "id": "1feb58e4-27fb-47bf-9c34-44a3e639ec6b",
   "metadata": {},
   "source": [
    "**Here we collected the release date for the most of the movies and replaced it by the missing value**"
   ]
  },
  {
   "cell_type": "code",
   "execution_count": 262,
   "id": "a36a1d72-3ed2-4195-a5ba-5dc22e0ab978",
   "metadata": {},
   "outputs": [],
   "source": [
    "df.loc[df['title'] == 'Alienoid: Part 2', 'release_date'] = '2024-01-10'\n",
    "df.loc[df['title'] == 'Terrifier 3', 'release_date'] = '2024-10-11'\n",
    "df.loc[df['title'] == 'Shrek 5', 'release_date'] = '2026-12-23'\n",
    "df.loc[df['title'] == 'Spider-Man 4', 'release_date'] = '2026-07-31'\n",
    "df.loc[df['title'] == 'Moana', 'release_date'] = '2026-07-10'\n",
    "df.loc[df['title'] == 'Your Name', 'release_date'] = '2016-08-26'\n",
    "df.loc[df['title'] == 'Zootopia 2', 'release_date'] = '2025-11-26'\n",
    "df.loc[df['title'] == ' El día de los albañiles', 'release_date'] = '1984-01-13'\n",
    "df.loc[df['title'] == 'Final Destination 6: Bloodlines', 'release_date'] = '2025-05-16'\n"
   ]
  },
  {
   "cell_type": "markdown",
   "id": "9b0dc581-aa56-4b85-8a7d-50901a516f70",
   "metadata": {},
   "source": [
    "# DATA CLEANING AND TRANSFORMING"
   ]
  },
  {
   "cell_type": "code",
   "execution_count": 264,
   "id": "7b15c9a6-07fb-4bb7-ac42-2410ee92c241",
   "metadata": {},
   "outputs": [
    {
     "name": "stdout",
     "output_type": "stream",
     "text": [
      "                                                title release_date\n",
      "2217                                   Fast X: Part 3          NaN\n",
      "2705                         Kingsman: The Blue Blood          NaN\n",
      "2738                             John Wick: Chapter 5          NaN\n",
      "3360                                   Wolf Warrior 3          NaN\n",
      "4171                                    Baby Driver 2          NaN\n",
      "4951                              Save Me, Spider-Man          NaN\n",
      "5715               Transformers: Rise of the Beasts 2          NaN\n",
      "5813               Transformers: Rise of the Beasts 3          NaN\n",
      "6872        Untitled Miles Morales Spider-Man Project          NaN\n",
      "7528                          G.I. Joe: Ever Vigilant          NaN\n",
      "7908                                    One Punch Man          NaN\n",
      "7941                                     Wolf Creek 3          NaN\n",
      "8005                                      Toy Story 5          NaN\n",
      "8364  Red Bull Dragon Ball FighterZ World Final Paris          NaN\n",
      "9762                          El día de los albañiles          NaN\n"
     ]
    }
   ],
   "source": [
    "missing_release_dates = df[df['release_date'].isna()]\n",
    "print(missing_release_dates[['title', 'release_date']])"
   ]
  },
  {
   "cell_type": "code",
   "execution_count": 266,
   "id": "97ba2ebe-9e0f-4f38-9329-7d24ad4a77d4",
   "metadata": {},
   "outputs": [
    {
     "name": "stdout",
     "output_type": "stream",
     "text": [
      "Total missing release dates: 15\n"
     ]
    }
   ],
   "source": [
    "print(\"Total missing release dates:\", len(missing_release_dates))\n"
   ]
  },
  {
   "cell_type": "markdown",
   "id": "e06824e5-5fba-43b9-b972-a9e1bc268a9e",
   "metadata": {},
   "source": [
    "**Here we have total 15 missing entries and these movies are the one which are yet to be released so we need to drop\n",
    "this entries**"
   ]
  },
  {
   "cell_type": "code",
   "execution_count": 184,
   "id": "056f360f-9e1a-4f61-9fe7-476b937554ad",
   "metadata": {},
   "outputs": [],
   "source": [
    "df.dropna(subset=[\"release_date\"], inplace=True)"
   ]
  },
  {
   "cell_type": "code",
   "execution_count": 269,
   "id": "1439787c-3bb8-4f8d-9177-8eb4f83d9905",
   "metadata": {},
   "outputs": [
    {
     "data": {
      "text/plain": [
       "15"
      ]
     },
     "execution_count": 269,
     "metadata": {},
     "output_type": "execute_result"
    }
   ],
   "source": [
    "df['release_date'].isna().sum()"
   ]
  },
  {
   "cell_type": "markdown",
   "id": "4634c931-534e-4d17-b95d-cff7ca957bcd",
   "metadata": {},
   "source": [
    "**As language has only 1 null entry we found out the language of the movie and fill it in the Dataset**"
   ]
  },
  {
   "cell_type": "code",
   "execution_count": 188,
   "id": "a1a66c50-b40e-4a37-9cf3-b365b16bd39b",
   "metadata": {},
   "outputs": [
    {
     "name": "stdout",
     "output_type": "stream",
     "text": [
      "                     title original_language\n",
      "226  ['Aathi Thiraikalam']               NaN\n"
     ]
    }
   ],
   "source": [
    "missing_original_language = df[df['original_language'].isna()]\n",
    "print(missing_original_language[['title', 'original_language']])\n"
   ]
  },
  {
   "cell_type": "markdown",
   "id": "fa96162a-1aa2-401a-8a4a-a2fa245c2234",
   "metadata": {},
   "source": [
    "**As it is a tamil movie its original laguage is tamil.**"
   ]
  },
  {
   "cell_type": "code",
   "execution_count": 191,
   "id": "98426e9a-23d9-4215-827d-a96ba71ad3db",
   "metadata": {},
   "outputs": [],
   "source": [
    "df.loc[df['original_language'].isna(), 'original_language'] = 'Tamil'"
   ]
  },
  {
   "cell_type": "markdown",
   "id": "21b99246-cbee-4192-98d9-0eb0d374a8ed",
   "metadata": {},
   "source": [
    "**For the remaining missing values Like Vote average,vote count,popularity \n",
    "fill these entries with the mean and median**"
   ]
  },
  {
   "cell_type": "code",
   "execution_count": 193,
   "id": "0e5537b0-2aa4-41ee-9c9c-4429ece66324",
   "metadata": {},
   "outputs": [],
   "source": [
    "df['vote_average'] = df['vote_average'].fillna(df['vote_average'].median())\n"
   ]
  },
  {
   "cell_type": "code",
   "execution_count": 195,
   "id": "34fc0442-d508-4a5f-b912-4c2525463ebd",
   "metadata": {},
   "outputs": [],
   "source": [
    "df['vote_count'] = df['vote_count'].fillna(df['vote_count'].mean())\n"
   ]
  },
  {
   "cell_type": "code",
   "execution_count": 197,
   "id": "e4d1f933-85f0-4906-9908-5eb86ec3a9bf",
   "metadata": {},
   "outputs": [],
   "source": [
    "df['popularity'] = df['popularity'].fillna(df['popularity'].mean())\n"
   ]
  },
  {
   "cell_type": "markdown",
   "id": "8df61de7-f4c4-4fa1-ac5d-b2b37d6d789b",
   "metadata": {},
   "source": [
    "**As it is interger type replace production companies with place holder**"
   ]
  },
  {
   "cell_type": "code",
   "execution_count": 199,
   "id": "288f8e2b-65ab-4b69-a93a-ded4f2918f2d",
   "metadata": {},
   "outputs": [],
   "source": [
    "df['production_companies'] = df['production_companies'].fillna('Unknown')"
   ]
  },
  {
   "cell_type": "code",
   "execution_count": 201,
   "id": "34692c51-b02f-44c5-a380-92e723cfb886",
   "metadata": {},
   "outputs": [
    {
     "data": {
      "text/plain": [
       "Unnamed: 0              0\n",
       "id                      0\n",
       "title                   0\n",
       "release_date            0\n",
       "genres                  0\n",
       "original_language       0\n",
       "vote_average            0\n",
       "vote_count              0\n",
       "popularity              0\n",
       "overview                0\n",
       "budget                  2\n",
       "production_companies    0\n",
       "revenue                 2\n",
       "runtime                 2\n",
       "tagline                 0\n",
       "dtype: int64"
      ]
     },
     "execution_count": 201,
     "metadata": {},
     "output_type": "execute_result"
    }
   ],
   "source": [
    "df.isna().sum()"
   ]
  },
  {
   "cell_type": "code",
   "execution_count": 203,
   "id": "a3b799b9-ff6d-43c1-b8ef-cc9b6aba9f33",
   "metadata": {},
   "outputs": [
    {
     "name": "stdout",
     "output_type": "stream",
     "text": [
      "                     title  budget\n",
      "225         Munthiri Kaadu     NaN\n",
      "226  ['Aathi Thiraikalam']     NaN\n"
     ]
    }
   ],
   "source": [
    "missing_bud = df[df['budget'].isna()]\n",
    "print(missing_bud[['title', 'budget']])"
   ]
  },
  {
   "cell_type": "code",
   "execution_count": 278,
   "id": "f26b1daa-f27c-401d-aea1-238dcf1b37f2",
   "metadata": {},
   "outputs": [
    {
     "name": "stdout",
     "output_type": "stream",
     "text": [
      "                     title  revenue\n",
      "225         Munthiri Kaadu      NaN\n",
      "226  ['Aathi Thiraikalam']      NaN\n"
     ]
    }
   ],
   "source": [
    "missing_rev = df[df['revenue'].isna()]\n",
    "print(missing_rev[['title', 'revenue']])"
   ]
  },
  {
   "cell_type": "code",
   "execution_count": 280,
   "id": "6b799010-48a8-4921-86e1-c9ffce5f3f2b",
   "metadata": {},
   "outputs": [
    {
     "name": "stdout",
     "output_type": "stream",
     "text": [
      "                     title  runtime\n",
      "225         Munthiri Kaadu      NaN\n",
      "226  ['Aathi Thiraikalam']      NaN\n"
     ]
    }
   ],
   "source": [
    "missing_run = df[df['runtime'].isna()]\n",
    "print(missing_run[['title', 'runtime']])"
   ]
  },
  {
   "cell_type": "markdown",
   "id": "3967c314-d73a-4d4b-a240-7c1935face43",
   "metadata": {},
   "source": [
    "**It is found that these two movies( Munthiri Kaadu and Aathi Thiraikalam ) has null values for budget,\n",
    "revenue and runtime it is better to remove these two**"
   ]
  },
  {
   "cell_type": "code",
   "execution_count": 283,
   "id": "18a700ac-f837-48e7-9765-3724d5901224",
   "metadata": {},
   "outputs": [],
   "source": [
    "df.drop([225, 226], inplace=True)"
   ]
  },
  {
   "cell_type": "code",
   "execution_count": 285,
   "id": "46766958-cf15-4940-a0f8-4b4e5f506e34",
   "metadata": {},
   "outputs": [
    {
     "data": {
      "text/plain": [
       "(9999, 15)"
      ]
     },
     "execution_count": 285,
     "metadata": {},
     "output_type": "execute_result"
    }
   ],
   "source": [
    "df.shape"
   ]
  },
  {
   "cell_type": "markdown",
   "id": "e6aeb2d6-d3cf-4774-b815-38f5270fb81c",
   "metadata": {},
   "source": [
    "**comparing shape of before and after dropping (10001, 15) and (9999, 15)\n",
    "so we have drop the null entries from the data so that the interpritation won't affect**"
   ]
  },
  {
   "cell_type": "code",
   "execution_count": 214,
   "id": "610859da-aa15-408a-a87d-50713b4f05bb",
   "metadata": {},
   "outputs": [
    {
     "data": {
      "text/plain": [
       "Unnamed: 0              9984\n",
       "id                      9984\n",
       "title                   9637\n",
       "release_date            6002\n",
       "genres                  2279\n",
       "original_language         52\n",
       "vote_average              72\n",
       "vote_count              3471\n",
       "popularity              7960\n",
       "overview                9906\n",
       "budget                   699\n",
       "production_companies    8026\n",
       "revenue                 5372\n",
       "runtime                  216\n",
       "tagline                 7328\n",
       "dtype: int64"
      ]
     },
     "execution_count": 214,
     "metadata": {},
     "output_type": "execute_result"
    }
   ],
   "source": [
    "df.nunique()"
   ]
  },
  {
   "cell_type": "markdown",
   "id": "973bd91b-537c-4c85-8327-b5184ab58450",
   "metadata": {},
   "source": [
    "All the unique entries according to the data "
   ]
  },
  {
   "cell_type": "code",
   "execution_count": 217,
   "id": "6183363f-79ee-4538-b453-9d93d9261036",
   "metadata": {},
   "outputs": [
    {
     "data": {
      "text/plain": [
       "Unnamed: 0              0\n",
       "id                      0\n",
       "title                   0\n",
       "release_date            0\n",
       "genres                  0\n",
       "original_language       0\n",
       "vote_average            0\n",
       "vote_count              0\n",
       "popularity              0\n",
       "overview                0\n",
       "budget                  0\n",
       "production_companies    0\n",
       "revenue                 0\n",
       "runtime                 0\n",
       "tagline                 0\n",
       "dtype: int64"
      ]
     },
     "execution_count": 217,
     "metadata": {},
     "output_type": "execute_result"
    }
   ],
   "source": [
    "df.isnull().sum()"
   ]
  },
  {
   "cell_type": "markdown",
   "id": "f0c6b3f4-f641-482d-8aa8-0db8d0f8c3e6",
   "metadata": {},
   "source": [
    "**So after dropping the null values we have a clean data** "
   ]
  },
  {
   "cell_type": "code",
   "execution_count": 220,
   "id": "62587b91-fe3e-4c90-a4ec-8d7ede4f745c",
   "metadata": {},
   "outputs": [
    {
     "data": {
      "text/html": [
       "<div>\n",
       "<style scoped>\n",
       "    .dataframe tbody tr th:only-of-type {\n",
       "        vertical-align: middle;\n",
       "    }\n",
       "\n",
       "    .dataframe tbody tr th {\n",
       "        vertical-align: top;\n",
       "    }\n",
       "\n",
       "    .dataframe thead th {\n",
       "        text-align: right;\n",
       "    }\n",
       "</style>\n",
       "<table border=\"1\" class=\"dataframe\">\n",
       "  <thead>\n",
       "    <tr style=\"text-align: right;\">\n",
       "      <th></th>\n",
       "      <th>id</th>\n",
       "      <th>vote_average</th>\n",
       "      <th>vote_count</th>\n",
       "      <th>popularity</th>\n",
       "      <th>budget</th>\n",
       "      <th>revenue</th>\n",
       "      <th>runtime</th>\n",
       "    </tr>\n",
       "  </thead>\n",
       "  <tbody>\n",
       "    <tr>\n",
       "      <th>count</th>\n",
       "      <td>9.984000e+03</td>\n",
       "      <td>9984.000000</td>\n",
       "      <td>9984.000000</td>\n",
       "      <td>9984.000000</td>\n",
       "      <td>9.984000e+03</td>\n",
       "      <td>9.984000e+03</td>\n",
       "      <td>9984.000000</td>\n",
       "    </tr>\n",
       "    <tr>\n",
       "      <th>mean</th>\n",
       "      <td>2.994125e+05</td>\n",
       "      <td>6.326432</td>\n",
       "      <td>1560.789964</td>\n",
       "      <td>33.555442</td>\n",
       "      <td>1.996795e+07</td>\n",
       "      <td>6.093478e+07</td>\n",
       "      <td>100.942808</td>\n",
       "    </tr>\n",
       "    <tr>\n",
       "      <th>std</th>\n",
       "      <td>3.375726e+05</td>\n",
       "      <td>1.444610</td>\n",
       "      <td>2889.501197</td>\n",
       "      <td>126.592001</td>\n",
       "      <td>3.872716e+07</td>\n",
       "      <td>1.554060e+08</td>\n",
       "      <td>27.632627</td>\n",
       "    </tr>\n",
       "    <tr>\n",
       "      <th>min</th>\n",
       "      <td>5.000000e+00</td>\n",
       "      <td>0.000000</td>\n",
       "      <td>0.000000</td>\n",
       "      <td>12.297000</td>\n",
       "      <td>0.000000e+00</td>\n",
       "      <td>0.000000e+00</td>\n",
       "      <td>0.000000</td>\n",
       "    </tr>\n",
       "    <tr>\n",
       "      <th>25%</th>\n",
       "      <td>1.147350e+04</td>\n",
       "      <td>5.900000</td>\n",
       "      <td>143.000000</td>\n",
       "      <td>14.599750</td>\n",
       "      <td>0.000000e+00</td>\n",
       "      <td>0.000000e+00</td>\n",
       "      <td>90.000000</td>\n",
       "    </tr>\n",
       "    <tr>\n",
       "      <th>50%</th>\n",
       "      <td>1.169060e+05</td>\n",
       "      <td>6.600000</td>\n",
       "      <td>521.000000</td>\n",
       "      <td>18.583000</td>\n",
       "      <td>1.300000e+06</td>\n",
       "      <td>2.182240e+06</td>\n",
       "      <td>100.000000</td>\n",
       "    </tr>\n",
       "    <tr>\n",
       "      <th>75%</th>\n",
       "      <td>5.369155e+05</td>\n",
       "      <td>7.100000</td>\n",
       "      <td>1585.250000</td>\n",
       "      <td>28.020500</td>\n",
       "      <td>2.300000e+07</td>\n",
       "      <td>5.137926e+07</td>\n",
       "      <td>115.000000</td>\n",
       "    </tr>\n",
       "    <tr>\n",
       "      <th>max</th>\n",
       "      <td>1.136631e+06</td>\n",
       "      <td>10.000000</td>\n",
       "      <td>33822.000000</td>\n",
       "      <td>8363.473000</td>\n",
       "      <td>4.600000e+08</td>\n",
       "      <td>2.923706e+09</td>\n",
       "      <td>366.000000</td>\n",
       "    </tr>\n",
       "  </tbody>\n",
       "</table>\n",
       "</div>"
      ],
      "text/plain": [
       "                 id  vote_average    vote_count   popularity        budget  \\\n",
       "count  9.984000e+03   9984.000000   9984.000000  9984.000000  9.984000e+03   \n",
       "mean   2.994125e+05      6.326432   1560.789964    33.555442  1.996795e+07   \n",
       "std    3.375726e+05      1.444610   2889.501197   126.592001  3.872716e+07   \n",
       "min    5.000000e+00      0.000000      0.000000    12.297000  0.000000e+00   \n",
       "25%    1.147350e+04      5.900000    143.000000    14.599750  0.000000e+00   \n",
       "50%    1.169060e+05      6.600000    521.000000    18.583000  1.300000e+06   \n",
       "75%    5.369155e+05      7.100000   1585.250000    28.020500  2.300000e+07   \n",
       "max    1.136631e+06     10.000000  33822.000000  8363.473000  4.600000e+08   \n",
       "\n",
       "            revenue      runtime  \n",
       "count  9.984000e+03  9984.000000  \n",
       "mean   6.093478e+07   100.942808  \n",
       "std    1.554060e+08    27.632627  \n",
       "min    0.000000e+00     0.000000  \n",
       "25%    0.000000e+00    90.000000  \n",
       "50%    2.182240e+06   100.000000  \n",
       "75%    5.137926e+07   115.000000  \n",
       "max    2.923706e+09   366.000000  "
      ]
     },
     "execution_count": 220,
     "metadata": {},
     "output_type": "execute_result"
    }
   ],
   "source": [
    "df.describe()"
   ]
  },
  {
   "cell_type": "markdown",
   "id": "1d7768f9-890c-4bda-a3ad-bab3aa73ae09",
   "metadata": {},
   "source": [
    "# 1.Vote_average\n",
    "\n",
    "1. count : The count of vote_average is 9.984000.\n",
    "2. mean : The average (mean) vote average column is 6.326432 i.e average around 6.32 .\n",
    "3. std : The standard deviation is 1.444610 is less than mean i.e the data values are closer to mean, or around the mean.\n",
    "4. min : The minimum vote average is 0 i.e there is no min average.\n",
    "5. max : The maximum vote average is 10.\n",
    "6. 25 % (Q1)**: The 25 % value is 5.9000 that show the values below the 25 % of the data fall.\n",
    "7. 50 % (median): The middle value of this column is 6.6000.\n",
    "8. 75 % (Q3) : 75 % of the 7.1000 or below 5.900 with only the high 50 % value above this."
   ]
  },
  {
   "cell_type": "markdown",
   "id": "ea220138-7b72-4df0-a07c-41349552f4c1",
   "metadata": {},
   "source": [
    "# 2.Vote_count\n",
    "1. count : The count of vote_count is 9984.\n",
    "2. mean : The average (mean) vote count column is 1560.7899 i.e average around 1560 .\n",
    "3. std : The standard deviation is 2889.50 is grater than average .\n",
    "4. min : The lowest count is 0.\n",
    "5. max : The maximum count is 33822.00 .\n",
    "6. 25 % (Q1)**: The 25 % value is 143.00 that show the values below the 25 % of the data fall.\n",
    "7. 50 % (median): The middle value of this column is 521.\n",
    "8. 75 % (Q3) : 75 % of the 1585 ."
   ]
  },
  {
   "cell_type": "markdown",
   "id": "526680ef-7a85-454f-9c9f-26ba9850ba45",
   "metadata": {},
   "source": [
    "# 3.Popularity\n",
    "\n",
    "1. count : The count of popularity is 9984.\n",
    "2. mean : The average (mean) popularity column is 33.55 i.e average around 33 .\n",
    "3. std : The standard deviation is 126 is grater than average .\n",
    "4. min : The minimum popularity is 12.29 (i.e 12).\n",
    "5. max : The maximum popularity is 8363.4730.\n",
    "6. 25 % (Q1)**: The 25 % value is 14.59 that show the values below the 25 % of the data fall.\n",
    "7. 50 % (median): The middle value of this column is 18.58.\n",
    "8. 75 % (Q3) : 75 % of the 28.01 which is greater than median and Q1."
   ]
  },
  {
   "cell_type": "markdown",
   "id": "86b16618-6e0e-45af-a3f6-12ee54227b5a",
   "metadata": {},
   "source": [
    "# 4.budget\n",
    "\n",
    "1. count : The count of budget column is 9.984000 (i.e in this column some missing values are present).\n",
    "2. mean : The average (mean) budget column is 1.99 i.e average around 1. .\n",
    "3. std : The standard deviation is 3.87 is greater than average .\n",
    "4. min : The minimum budget is 0 .\n",
    "5. max : The maximum budget is 4.6000.\n",
    "6. 25 % (Q1)**: The 25 % value is 0 that show the there is no vaules are 25 % of the data fall.\n",
    "7. 50 % (median): The middle value of this column is 1.25.\n",
    "8. 75 % (Q3) : 75 % of the 2.300 which is greater than median and Q1."
   ]
  },
  {
   "cell_type": "markdown",
   "id": "c73ba5ed-e5be-461f-a6b6-666229f810f7",
   "metadata": {},
   "source": [
    "# 5.revenue\n",
    "\n",
    "1. count : The count of revenue column is 9.984000 (i.e in this column few missing values are present).\n",
    "2. mean : The average (mean) revenue column is 6.08 i.e average around 6 .\n",
    "3. std : The standard deviation is 1.55 which is less than average .\n",
    "4. min : The lowest revenue is 0 (there is no lowest revenue) .\n",
    "5. max : The highest revenue is 2.92.\n",
    "6. 25 % (Q1)**: The 25 % value is 0 that show the there is no vaules are 25 % of the data fall.\n",
    "7. 50 % (median): The middle value of this column is 2.18.\n",
    "8. 75 % (Q3) : 75 % of the 5.13 which is greater than median and Q1."
   ]
  },
  {
   "cell_type": "markdown",
   "id": "22fe60a4-c6b5-4617-8554-dab9a827576c",
   "metadata": {},
   "source": [
    "# 6.runtime\n",
    "\n",
    "1. count : The count of runtime column is 9984.000 (i.e in this column few missing values are present).\n",
    "2. mean : The average (mean) runtime column is 100.80 i.e average around 100 .\n",
    "3. std : The standard deviation is 27 which is less than average .\n",
    "4. min : The lowest runtime is 0 (there is no lowest runtime) .\n",
    "5. max : The highest runtime is 366.00.\n",
    "6. 25 % (Q1)**: The 25 % value is 90 that show the there below vaules are 25 % of the data fall.\n",
    "7. 50 % (median): The middle value of this column 100.\n",
    "8. 75 % (Q3) : 75 % of the 115 which is greater than median and below the 25% data fall."
   ]
  },
  {
   "cell_type": "code",
   "execution_count": 309,
   "id": "534c4ada-311a-4c43-8fee-9673946d944b",
   "metadata": {},
   "outputs": [
    {
     "data": {
      "text/html": [
       "<div>\n",
       "<style scoped>\n",
       "    .dataframe tbody tr th:only-of-type {\n",
       "        vertical-align: middle;\n",
       "    }\n",
       "\n",
       "    .dataframe tbody tr th {\n",
       "        vertical-align: top;\n",
       "    }\n",
       "\n",
       "    .dataframe thead th {\n",
       "        text-align: right;\n",
       "    }\n",
       "</style>\n",
       "<table border=\"1\" class=\"dataframe\">\n",
       "  <thead>\n",
       "    <tr style=\"text-align: right;\">\n",
       "      <th></th>\n",
       "      <th>Unnamed: 0</th>\n",
       "      <th>title</th>\n",
       "      <th>release_date</th>\n",
       "      <th>genres</th>\n",
       "      <th>original_language</th>\n",
       "      <th>overview</th>\n",
       "      <th>production_companies</th>\n",
       "      <th>tagline</th>\n",
       "    </tr>\n",
       "  </thead>\n",
       "  <tbody>\n",
       "    <tr>\n",
       "      <th>count</th>\n",
       "      <td>10001</td>\n",
       "      <td>10001</td>\n",
       "      <td>9978</td>\n",
       "      <td>10001</td>\n",
       "      <td>10000</td>\n",
       "      <td>9924</td>\n",
       "      <td>9999</td>\n",
       "      <td>7383</td>\n",
       "    </tr>\n",
       "    <tr>\n",
       "      <th>unique</th>\n",
       "      <td>10001</td>\n",
       "      <td>9654</td>\n",
       "      <td>5996</td>\n",
       "      <td>2280</td>\n",
       "      <td>52</td>\n",
       "      <td>9920</td>\n",
       "      <td>8035</td>\n",
       "      <td>7328</td>\n",
       "    </tr>\n",
       "    <tr>\n",
       "      <th>top</th>\n",
       "      <td>0</td>\n",
       "      <td>The Three Musketeers</td>\n",
       "      <td>2023-06-11</td>\n",
       "      <td>['Drama']</td>\n",
       "      <td>English</td>\n",
       "      <td>Nikkatsu Roman Porno</td>\n",
       "      <td>[]</td>\n",
       "      <td>Based on a true story.</td>\n",
       "    </tr>\n",
       "    <tr>\n",
       "      <th>freq</th>\n",
       "      <td>1</td>\n",
       "      <td>5</td>\n",
       "      <td>32</td>\n",
       "      <td>582</td>\n",
       "      <td>7304</td>\n",
       "      <td>3</td>\n",
       "      <td>518</td>\n",
       "      <td>6</td>\n",
       "    </tr>\n",
       "  </tbody>\n",
       "</table>\n",
       "</div>"
      ],
      "text/plain": [
       "       Unnamed: 0                 title release_date     genres  \\\n",
       "count       10001                 10001         9978      10001   \n",
       "unique      10001                  9654         5996       2280   \n",
       "top             0  The Three Musketeers   2023-06-11  ['Drama']   \n",
       "freq            1                     5           32        582   \n",
       "\n",
       "       original_language              overview production_companies  \\\n",
       "count              10000                  9924                 9999   \n",
       "unique                52                  9920                 8035   \n",
       "top              English  Nikkatsu Roman Porno                   []   \n",
       "freq                7304                     3                  518   \n",
       "\n",
       "                       tagline  \n",
       "count                     7383  \n",
       "unique                    7328  \n",
       "top     Based on a true story.  \n",
       "freq                         6  "
      ]
     },
     "execution_count": 309,
     "metadata": {},
     "output_type": "execute_result"
    }
   ],
   "source": [
    "df.describe(include=['object'])"
   ]
  },
  {
   "cell_type": "code",
   "execution_count": 230,
   "id": "f9df176e-06af-49b8-a366-7a5ea8a33ee7",
   "metadata": {},
   "outputs": [],
   "source": [
    "df.drop(['id','overview','tagline'], axis = 1 , inplace = True)"
   ]
  },
  {
   "cell_type": "code",
   "execution_count": 232,
   "id": "81da45c1-469a-43f8-8aa3-32875fc010b2",
   "metadata": {},
   "outputs": [
    {
     "data": {
      "text/plain": [
       "Index(['Unnamed: 0', 'title', 'release_date', 'genres', 'original_language',\n",
       "       'vote_average', 'vote_count', 'popularity', 'budget',\n",
       "       'production_companies', 'revenue', 'runtime'],\n",
       "      dtype='object')"
      ]
     },
     "execution_count": 232,
     "metadata": {},
     "output_type": "execute_result"
    }
   ],
   "source": [
    "df.columns"
   ]
  },
  {
   "cell_type": "code",
   "execution_count": 314,
   "id": "d725171d-0d8c-45cc-8733-c88286278970",
   "metadata": {},
   "outputs": [
    {
     "data": {
      "text/html": [
       "<div>\n",
       "<style scoped>\n",
       "    .dataframe tbody tr th:only-of-type {\n",
       "        vertical-align: middle;\n",
       "    }\n",
       "\n",
       "    .dataframe tbody tr th {\n",
       "        vertical-align: top;\n",
       "    }\n",
       "\n",
       "    .dataframe thead th {\n",
       "        text-align: right;\n",
       "    }\n",
       "</style>\n",
       "<table border=\"1\" class=\"dataframe\">\n",
       "  <thead>\n",
       "    <tr style=\"text-align: right;\">\n",
       "      <th></th>\n",
       "      <th>Unnamed: 0</th>\n",
       "      <th>id</th>\n",
       "      <th>title</th>\n",
       "      <th>release_date</th>\n",
       "      <th>genres</th>\n",
       "      <th>original_language</th>\n",
       "      <th>vote_average</th>\n",
       "      <th>vote_count</th>\n",
       "      <th>popularity</th>\n",
       "      <th>overview</th>\n",
       "      <th>budget</th>\n",
       "      <th>production_companies</th>\n",
       "      <th>revenue</th>\n",
       "      <th>runtime</th>\n",
       "      <th>tagline</th>\n",
       "    </tr>\n",
       "  </thead>\n",
       "  <tbody>\n",
       "    <tr>\n",
       "      <th>count</th>\n",
       "      <td>10001</td>\n",
       "      <td>1.000100e+04</td>\n",
       "      <td>10001</td>\n",
       "      <td>9978</td>\n",
       "      <td>10001</td>\n",
       "      <td>10000</td>\n",
       "      <td>10000.000000</td>\n",
       "      <td>10000.000000</td>\n",
       "      <td>10000.000000</td>\n",
       "      <td>9924</td>\n",
       "      <td>9.999000e+03</td>\n",
       "      <td>9999</td>\n",
       "      <td>9.999000e+03</td>\n",
       "      <td>9999.000000</td>\n",
       "      <td>7383</td>\n",
       "    </tr>\n",
       "    <tr>\n",
       "      <th>unique</th>\n",
       "      <td>10001</td>\n",
       "      <td>NaN</td>\n",
       "      <td>9654</td>\n",
       "      <td>5996</td>\n",
       "      <td>2280</td>\n",
       "      <td>52</td>\n",
       "      <td>NaN</td>\n",
       "      <td>NaN</td>\n",
       "      <td>NaN</td>\n",
       "      <td>9920</td>\n",
       "      <td>NaN</td>\n",
       "      <td>8035</td>\n",
       "      <td>NaN</td>\n",
       "      <td>NaN</td>\n",
       "      <td>7328</td>\n",
       "    </tr>\n",
       "    <tr>\n",
       "      <th>top</th>\n",
       "      <td>0</td>\n",
       "      <td>NaN</td>\n",
       "      <td>The Three Musketeers</td>\n",
       "      <td>2023-06-11</td>\n",
       "      <td>['Drama']</td>\n",
       "      <td>English</td>\n",
       "      <td>NaN</td>\n",
       "      <td>NaN</td>\n",
       "      <td>NaN</td>\n",
       "      <td>Nikkatsu Roman Porno</td>\n",
       "      <td>NaN</td>\n",
       "      <td>[]</td>\n",
       "      <td>NaN</td>\n",
       "      <td>NaN</td>\n",
       "      <td>Based on a true story.</td>\n",
       "    </tr>\n",
       "    <tr>\n",
       "      <th>freq</th>\n",
       "      <td>1</td>\n",
       "      <td>NaN</td>\n",
       "      <td>5</td>\n",
       "      <td>32</td>\n",
       "      <td>582</td>\n",
       "      <td>7304</td>\n",
       "      <td>NaN</td>\n",
       "      <td>NaN</td>\n",
       "      <td>NaN</td>\n",
       "      <td>3</td>\n",
       "      <td>NaN</td>\n",
       "      <td>518</td>\n",
       "      <td>NaN</td>\n",
       "      <td>NaN</td>\n",
       "      <td>6</td>\n",
       "    </tr>\n",
       "    <tr>\n",
       "      <th>mean</th>\n",
       "      <td>NaN</td>\n",
       "      <td>3.001465e+05</td>\n",
       "      <td>NaN</td>\n",
       "      <td>NaN</td>\n",
       "      <td>NaN</td>\n",
       "      <td>NaN</td>\n",
       "      <td>6.319090</td>\n",
       "      <td>1558.294800</td>\n",
       "      <td>33.542340</td>\n",
       "      <td>NaN</td>\n",
       "      <td>1.993800e+07</td>\n",
       "      <td>NaN</td>\n",
       "      <td>6.084337e+07</td>\n",
       "      <td>100.809581</td>\n",
       "      <td>NaN</td>\n",
       "    </tr>\n",
       "    <tr>\n",
       "      <th>std</th>\n",
       "      <td>NaN</td>\n",
       "      <td>3.379901e+05</td>\n",
       "      <td>NaN</td>\n",
       "      <td>NaN</td>\n",
       "      <td>NaN</td>\n",
       "      <td>NaN</td>\n",
       "      <td>1.460605</td>\n",
       "      <td>2887.861217</td>\n",
       "      <td>126.495621</td>\n",
       "      <td>NaN</td>\n",
       "      <td>3.870582e+07</td>\n",
       "      <td>NaN</td>\n",
       "      <td>1.553073e+08</td>\n",
       "      <td>27.850165</td>\n",
       "      <td>NaN</td>\n",
       "    </tr>\n",
       "    <tr>\n",
       "      <th>min</th>\n",
       "      <td>NaN</td>\n",
       "      <td>0.000000e+00</td>\n",
       "      <td>NaN</td>\n",
       "      <td>NaN</td>\n",
       "      <td>NaN</td>\n",
       "      <td>NaN</td>\n",
       "      <td>0.000000</td>\n",
       "      <td>0.000000</td>\n",
       "      <td>12.297000</td>\n",
       "      <td>NaN</td>\n",
       "      <td>0.000000e+00</td>\n",
       "      <td>NaN</td>\n",
       "      <td>0.000000e+00</td>\n",
       "      <td>0.000000</td>\n",
       "      <td>NaN</td>\n",
       "    </tr>\n",
       "    <tr>\n",
       "      <th>25%</th>\n",
       "      <td>NaN</td>\n",
       "      <td>1.150400e+04</td>\n",
       "      <td>NaN</td>\n",
       "      <td>NaN</td>\n",
       "      <td>NaN</td>\n",
       "      <td>NaN</td>\n",
       "      <td>5.900000</td>\n",
       "      <td>143.000000</td>\n",
       "      <td>14.599000</td>\n",
       "      <td>NaN</td>\n",
       "      <td>0.000000e+00</td>\n",
       "      <td>NaN</td>\n",
       "      <td>0.000000e+00</td>\n",
       "      <td>90.000000</td>\n",
       "      <td>NaN</td>\n",
       "    </tr>\n",
       "    <tr>\n",
       "      <th>50%</th>\n",
       "      <td>NaN</td>\n",
       "      <td>1.184060e+05</td>\n",
       "      <td>NaN</td>\n",
       "      <td>NaN</td>\n",
       "      <td>NaN</td>\n",
       "      <td>NaN</td>\n",
       "      <td>6.600000</td>\n",
       "      <td>519.000000</td>\n",
       "      <td>18.582500</td>\n",
       "      <td>NaN</td>\n",
       "      <td>1.250000e+06</td>\n",
       "      <td>NaN</td>\n",
       "      <td>2.133452e+06</td>\n",
       "      <td>100.000000</td>\n",
       "      <td>NaN</td>\n",
       "    </tr>\n",
       "    <tr>\n",
       "      <th>75%</th>\n",
       "      <td>NaN</td>\n",
       "      <td>5.379150e+05</td>\n",
       "      <td>NaN</td>\n",
       "      <td>NaN</td>\n",
       "      <td>NaN</td>\n",
       "      <td>NaN</td>\n",
       "      <td>7.100000</td>\n",
       "      <td>1584.000000</td>\n",
       "      <td>28.014500</td>\n",
       "      <td>NaN</td>\n",
       "      <td>2.300000e+07</td>\n",
       "      <td>NaN</td>\n",
       "      <td>5.106230e+07</td>\n",
       "      <td>115.000000</td>\n",
       "      <td>NaN</td>\n",
       "    </tr>\n",
       "    <tr>\n",
       "      <th>max</th>\n",
       "      <td>NaN</td>\n",
       "      <td>1.136631e+06</td>\n",
       "      <td>NaN</td>\n",
       "      <td>NaN</td>\n",
       "      <td>NaN</td>\n",
       "      <td>NaN</td>\n",
       "      <td>10.000000</td>\n",
       "      <td>33822.000000</td>\n",
       "      <td>8363.473000</td>\n",
       "      <td>NaN</td>\n",
       "      <td>4.600000e+08</td>\n",
       "      <td>NaN</td>\n",
       "      <td>2.923706e+09</td>\n",
       "      <td>366.000000</td>\n",
       "      <td>NaN</td>\n",
       "    </tr>\n",
       "  </tbody>\n",
       "</table>\n",
       "</div>"
      ],
      "text/plain": [
       "       Unnamed: 0            id                 title release_date     genres  \\\n",
       "count       10001  1.000100e+04                 10001         9978      10001   \n",
       "unique      10001           NaN                  9654         5996       2280   \n",
       "top             0           NaN  The Three Musketeers   2023-06-11  ['Drama']   \n",
       "freq            1           NaN                     5           32        582   \n",
       "mean          NaN  3.001465e+05                   NaN          NaN        NaN   \n",
       "std           NaN  3.379901e+05                   NaN          NaN        NaN   \n",
       "min           NaN  0.000000e+00                   NaN          NaN        NaN   \n",
       "25%           NaN  1.150400e+04                   NaN          NaN        NaN   \n",
       "50%           NaN  1.184060e+05                   NaN          NaN        NaN   \n",
       "75%           NaN  5.379150e+05                   NaN          NaN        NaN   \n",
       "max           NaN  1.136631e+06                   NaN          NaN        NaN   \n",
       "\n",
       "       original_language  vote_average    vote_count    popularity  \\\n",
       "count              10000  10000.000000  10000.000000  10000.000000   \n",
       "unique                52           NaN           NaN           NaN   \n",
       "top              English           NaN           NaN           NaN   \n",
       "freq                7304           NaN           NaN           NaN   \n",
       "mean                 NaN      6.319090   1558.294800     33.542340   \n",
       "std                  NaN      1.460605   2887.861217    126.495621   \n",
       "min                  NaN      0.000000      0.000000     12.297000   \n",
       "25%                  NaN      5.900000    143.000000     14.599000   \n",
       "50%                  NaN      6.600000    519.000000     18.582500   \n",
       "75%                  NaN      7.100000   1584.000000     28.014500   \n",
       "max                  NaN     10.000000  33822.000000   8363.473000   \n",
       "\n",
       "                    overview        budget production_companies       revenue  \\\n",
       "count                   9924  9.999000e+03                 9999  9.999000e+03   \n",
       "unique                  9920           NaN                 8035           NaN   \n",
       "top     Nikkatsu Roman Porno           NaN                   []           NaN   \n",
       "freq                       3           NaN                  518           NaN   \n",
       "mean                     NaN  1.993800e+07                  NaN  6.084337e+07   \n",
       "std                      NaN  3.870582e+07                  NaN  1.553073e+08   \n",
       "min                      NaN  0.000000e+00                  NaN  0.000000e+00   \n",
       "25%                      NaN  0.000000e+00                  NaN  0.000000e+00   \n",
       "50%                      NaN  1.250000e+06                  NaN  2.133452e+06   \n",
       "75%                      NaN  2.300000e+07                  NaN  5.106230e+07   \n",
       "max                      NaN  4.600000e+08                  NaN  2.923706e+09   \n",
       "\n",
       "            runtime                 tagline  \n",
       "count   9999.000000                    7383  \n",
       "unique          NaN                    7328  \n",
       "top             NaN  Based on a true story.  \n",
       "freq            NaN                       6  \n",
       "mean     100.809581                     NaN  \n",
       "std       27.850165                     NaN  \n",
       "min        0.000000                     NaN  \n",
       "25%       90.000000                     NaN  \n",
       "50%      100.000000                     NaN  \n",
       "75%      115.000000                     NaN  \n",
       "max      366.000000                     NaN  "
      ]
     },
     "execution_count": 314,
     "metadata": {},
     "output_type": "execute_result"
    }
   ],
   "source": [
    "df.describe(include = 'all')"
   ]
  },
  {
   "cell_type": "code",
   "execution_count": 316,
   "id": "96da21eb-0d41-4839-b18f-0d89e369ebbf",
   "metadata": {},
   "outputs": [],
   "source": [
    "import seaborn as sns\n",
    "import matplotlib.pyplot as plt"
   ]
  },
  {
   "cell_type": "code",
   "execution_count": 345,
   "id": "a88fbcfd-c2f4-4e68-b914-5fe89bb3b929",
   "metadata": {},
   "outputs": [
    {
     "data": {
      "image/png": "[encoded data removed]",
      "text/plain": [
       "<Figure size 640x480 with 1 Axes>"
      ]
     },
     "metadata": {},
     "output_type": "display_data"
    },
    {
     "data": {
      "image/png": "[encoded data removed]",
      "text/plain": [
       "<Figure size 640x480 with 1 Axes>"
      ]
     },
     "metadata": {},
     "output_type": "display_data"
    },
    {
     "data": {
      "image/png": "[encoded data removed]",
      "text/plain": [
       "<Figure size 640x480 with 1 Axes>"
      ]
     },
     "metadata": {},
     "output_type": "display_data"
    },
    {
     "data": {
      "image/png": "[encoded data removed]",
      "text/plain": [
       "<Figure size 640x480 with 1 Axes>"
      ]
     },
     "metadata": {},
     "output_type": "display_data"
    },
    {
     "data": {
      "image/png": "[encoded data removed]",
      "text/plain": [
       "<Figure size 640x480 with 1 Axes>"
      ]
     },
     "metadata": {},
     "output_type": "display_data"
    },
    {
     "data": {
      "image/png": "[encoded data removed]",
      "text/plain": [
       "<Figure size 640x480 with 1 Axes>"
      ]
     },
     "metadata": {},
     "output_type": "display_data"
    }
   ],
   "source": [
    "numeric_cols = ['budget', 'revenue', 'runtime', 'vote_average', 'vote_count', 'popularity']\n",
    "\n",
    "for col in numeric_cols:\n",
    "    plt.figure()\n",
    "    sns.histplot(df[col], bins=30)\n",
    "    plt.title(f\"Distribution of {col}\")\n",
    "    plt.show()"
   ]
  },
  {
   "cell_type": "markdown",
   "id": "7e293ba8-a65b-4d8a-9758-d1f040b35f2b",
   "metadata": {},
   "source": [
    "plt.figure\n",
    "sns.heatmap(df[numeric_cols].corr(), cmap='coolwarm')\n",
    "plt.title(\"Correlation Between Numeric Features\")\n",
    "plt.show()"
   ]
  },
  {
   "cell_type": "code",
   "execution_count": 343,
   "id": "99f4477f-bbaf-4cda-b543-7ed25eb2c08f",
   "metadata": {},
   "outputs": [
    {
     "data": {
      "image/png": "[encoded data removed]",
      "text/plain": [
       "<Figure size 640x480 with 1 Axes>"
      ]
     },
     "metadata": {},
     "output_type": "display_data"
    },
    {
     "data": {
      "image/png": "[encoded data removed]",
      "text/plain": [
       "<Figure size 640x480 with 1 Axes>"
      ]
     },
     "metadata": {},
     "output_type": "display_data"
    },
    {
     "data": {
      "image/png": "[encoded data removed]",
      "text/plain": [
       "<Figure size 640x480 with 1 Axes>"
      ]
     },
     "metadata": {},
     "output_type": "display_data"
    },
    {
     "data": {
      "image/png": "[encoded data removed]",
      "text/plain": [
       "<Figure size 640x480 with 1 Axes>"
      ]
     },
     "metadata": {},
     "output_type": "display_data"
    }
   ],
   "source": [
    "for col in ['budget', 'revenue', 'vote_count', 'popularity']:\n",
    "    plt.figure()\n",
    "    sns.boxplot(x=df[col])\n",
    "    plt.title(f\"Boxplot of {col}\")\n",
    "    plt.show()"
   ]
  },
  {
   "cell_type": "markdown",
   "id": "5e439ddb-3caa-4423-9336-4912c21a4e58",
   "metadata": {},
   "source": [
    "# INTERPRETATION"
   ]
  },
  {
   "cell_type": "markdown",
   "id": "45105553-6c75-45e2-911e-b79e575c9bce",
   "metadata": {},
   "source": [
    "**AS per the Heatmap we can conclude that**\n",
    "1. There is a strong correlation in between budget and revenue , more the budget more the quality of the production , advertisement increases as a result\n",
    "   good revenue\n",
    "2. There is a strong correlation in between vote count and popularity , more the vote count more the popularity of a movie \n",
    "3. There is a weak correlation in between vote average and popularity a movie with well-rateing doesn't make it popular.\n"
   ]
  },
  {
   "cell_type": "markdown",
   "id": "bdf221ea-6845-4bda-bca7-4793fad9e7e5",
   "metadata": {},
   "source": [
    "# STORYTELLING\n",
    "\n",
    "1.  We came to know that spending more doesn’t guarantee higher popularity, but it increase our chances of higher revenue.\n",
    "2.  We see that movies with more votes are likely more popular and engaging the audience ."
   ]
  },
  {
   "cell_type": "markdown",
   "id": "b603f1ef-e5d4-4c48-bdae-49f3be995caf",
   "metadata": {},
   "source": [
    "# RECOMMENDATIONS\n",
    "\n",
    "1. Reviews and ratings to increase vote count, which directly impacts popularity.\n",
    "2. Marketing and promotions of a movie increases audience reach.\n",
    "3. Higher rating doesn't decide popularity of a movies. \n",
    "4. Understanding the type of content, duration, and genre performed and refering them can help in success of movie\n"
   ]
  },
  {
   "cell_type": "code",
   "execution_count": null,
   "id": "43ba0ded-2e85-4feb-a24c-5d6ce6771f38",
   "metadata": {},
   "outputs": [],
   "source": []
  }
 ],
 "metadata": {
  "kernelspec": {
   "display_name": "Python [conda env:base] *",
   "language": "python",
   "name": "conda-base-py"
  },
  "language_info": {
   "codemirror_mode": {
    "name": "ipython",
    "version": 3
   },
   "file_extension": ".py",
   "mimetype": "text/x-python",
   "name": "python",
   "nbconvert_exporter": "python",
   "pygments_lexer": "ipython3",
   "version": "3.12.7"
  }
 },
 "nbformat": 4,
 "nbformat_minor": 5
}
